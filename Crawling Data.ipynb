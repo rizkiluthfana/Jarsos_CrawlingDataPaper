{
 "cells": [
  {
   "cell_type": "markdown",
   "metadata": {},
   "source": [
    "# Library and Twitter ID (API Key and API Secret Key)"
   ]
  },
  {
   "cell_type": "code",
   "execution_count": 3,
   "metadata": {},
   "outputs": [],
   "source": [
    "import tweepy,sys,jsonpickle\n",
    "\n",
    "API_key = 'H8nsMcb9U6KQcRrjP3mpw6TZz'\n",
    "API_secret_key = 'neH7ay1hM17eJVdNM99AR49ORsAOoMhMuDEBTeFakiuWb3TLsq'"
   ]
  },
  {
   "cell_type": "markdown",
   "metadata": {},
   "source": [
    "# Variables and search"
   ]
  },
  {
   "cell_type": "code",
   "execution_count": null,
   "metadata": {},
   "outputs": [],
   "source": [
    "qry = input(\"Input TwitterID atau query yang akan dicari :\") #input query yang akan dicari\n",
    "fName = input(\"Input nama file hasil crawling :\") + \".json\" #input nama file hasil pencarian dengan hasil .json\n",
    "maxTweets = input(\"Input jumlah maksimal data crawling :\") # Isi nilai maksimal data crawling\n",
    "tweetsPerQry = 100 # Jangan isi lebih dari 100, tidak diperbolehkan twitter\n",
    "\n",
    "auth = tweepy.AppAuthHandler(API_key,API_secret_key)\n",
    "api = tweepy.API(auth, wait_on_rate_limit=True,wait_on_rate_limit_notify=True)\n",
    "\n",
    "if (not api):\n",
    "    sys.exit('Autentikasi gagal, mohon cek \"API key\" & \"API secret key\" Twitter anda')\n",
    "    \n",
    "sinceId, max_id, tweetCount = None, -1, 0\n",
    "\n",
    "print(\"Mulai mengunduh maksimum {0} tweets\".format(maxTweets))\n",
    "with open(fName,'w') as f:\n",
    "    while tweetCount < int(maxTweets):\n",
    "        try:\n",
    "            if (max_id <= 0):\n",
    "                if (not sinceId):\n",
    "                    new_tweets=api.search(q=qry,count=tweetsPerQry)\n",
    "                else:\n",
    "                    new_tweets=api.search(q=qry,count=tweetsPerQry,since_id=sinceId)\n",
    "            else:\n",
    "                if (not sinceId):\n",
    "                    new_tweets=api.search(q=qry,count=tweetsPerQry,max_id=str(max_id - 1))\n",
    "                else:\n",
    "                    new_tweets=api.search(q=qry,count=tweetsPerQry,max_id=str(max_id - 1),since_id=sinceId)\n",
    "            if not new_tweets:\n",
    "                print('Tidak ada lagi Tweet ditemukan dengan Query=\"{0}\"'.format(qry));break\n",
    "            for tweet in new_tweets:\n",
    "                f.write(jsonpickle.encode(tweet._json,unpicklable=False)+'\\n')\n",
    "            tweetCount+=len(new_tweets)\n",
    "            sys.stdout.write(\"\\r\");sys.stdout.write(\"Jumlah Tweets telah tersimpan: %.0f\" %tweetCount);sys.stdout.flush()\n",
    "            max_id=new_tweets[-1].id\n",
    "        except tweepy.TweepError as e:\n",
    "            print(\"some error : \" + str(e));break # ada ERROR, keluar\n",
    "print ('\\nSelesai! {0} tweets tersimpan di \"{1}\"'.format(tweetCount,fName))"
   ]
  },
  {
   "cell_type": "code",
   "execution_count": null,
   "metadata": {},
   "outputs": [],
   "source": []
  }
 ],
 "metadata": {
  "kernelspec": {
   "display_name": "Python 3",
   "language": "python",
   "name": "python3"
  },
  "language_info": {
   "codemirror_mode": {
    "name": "ipython",
    "version": 3
   },
   "file_extension": ".py",
   "mimetype": "text/x-python",
   "name": "python",
   "nbconvert_exporter": "python",
   "pygments_lexer": "ipython3",
   "version": "3.7.3"
  }
 },
 "nbformat": 4,
 "nbformat_minor": 2
}
